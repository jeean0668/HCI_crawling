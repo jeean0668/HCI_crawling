{
 "cells": [
  {
   "cell_type": "code",
   "execution_count": 2,
   "metadata": {},
   "outputs": [],
   "source": [
    "import numpy as np\n",
    "import pandas as pd\n",
    "import selenium\n",
    "\n",
    "from selenium import webdriver\n",
    "from selenium.webdriver.chrome.options import Options\n",
    "from selenium.webdriver.common.by import By\n",
    "\n",
    "from time import sleep\n",
    "import re\n",
    "import math\n",
    "import os "
   ]
  },
  {
   "cell_type": "code",
   "execution_count": 3,
   "metadata": {},
   "outputs": [],
   "source": [
    "keyword = \"학교\"\n",
    "start_day = \"2019-12-22\"\n",
    "end_day = \"2019-12-29\"\n",
    "\n",
    "executable_path = './chromedriver'\n",
    "url = \"https://www.bigkinds.or.kr\""
   ]
  },
  {
   "cell_type": "code",
   "execution_count": null,
   "metadata": {},
   "outputs": [],
   "source": [
    "class Search_Bigkinds:\n",
    "    ''' 빅카인즈 크롤링 '''\n",
    "    click_time = 1.5\n",
    "    send_time = 0.5\n",
    "    date_time = 2\n",
    "    wait_time = 10\n",
    "\n",
    "    def __init__(self):\n",
    "        # create a new chrome session\n",
    "        "
   ]
  }
 ],
 "metadata": {
  "interpreter": {
   "hash": "baf356b61104cf11758295bc1abbe1bfefc0d250142895d2c924bd7b7f565409"
  },
  "kernelspec": {
   "display_name": "Python 3.6.10 ('machine_learning')",
   "language": "python",
   "name": "python3"
  },
  "language_info": {
   "codemirror_mode": {
    "name": "ipython",
    "version": 3
   },
   "file_extension": ".py",
   "mimetype": "text/x-python",
   "name": "python",
   "nbconvert_exporter": "python",
   "pygments_lexer": "ipython3",
   "version": "3.8.13"
  },
  "orig_nbformat": 4
 },
 "nbformat": 4,
 "nbformat_minor": 2
}
